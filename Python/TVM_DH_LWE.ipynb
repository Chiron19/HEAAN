{
 "cells": [
  {
   "cell_type": "code",
   "execution_count": 36,
   "metadata": {},
   "outputs": [
    {
     "name": "stdout",
     "output_type": "stream",
     "text": [
      "[[16  0  0  0  0  0  0  0]\n",
      " [ 0 16  0  0  0  0  0  0]\n",
      " [ 0  0 16  0  0  0  0  0]\n",
      " [ 0  0  0 16  0  0  0  0]\n",
      " [ 0  0  0  0 16  0  0  0]\n",
      " [ 0  0  0  0  0 16  0  0]\n",
      " [ 0  0  0  0  0  0 16  0]\n",
      " [ 0  0  0  0  0  0  0 16]]\n"
     ]
    }
   ],
   "source": [
    "import numpy as np\n",
    "\n",
    "N = 8\n",
    "lattice_basis = 2 * N * np.eye(N).astype(int)\n",
    "\n",
    "print(lattice_basis)"
   ]
  },
  {
   "cell_type": "code",
   "execution_count": 37,
   "metadata": {},
   "outputs": [
    {
     "name": "stdout",
     "output_type": "stream",
     "text": [
      "8\n"
     ]
    }
   ],
   "source": [
    "list_bn = [\n",
    "827733596782305800412928022203,\n",
    "949647717115293590693294029007,\n",
    "513755983108074989775373368979,\n",
    "677679034424075998463761252321,\n",
    "453168678084622963159703254177,\n",
    "832782910923539364543910431379,\n",
    "252562957778396321268184912171,\n",
    "651496223062243390455276796757,\n",
    "432919332491435708844136579631,\n",
    "223770585052094118295318801799,\n",
    "532148703589048376478494845573,\n",
    "243856773163704399644951505359,\n",
    "164819263334667219851593378483,\n",
    "401469735249463137163038448637,\n",
    "426751380869555974285167310687,\n",
    "560854616065731349966291565407,\n",
    "683800733848288692548599026941,\n",
    "720403676000154697037384804609,\n",
    "107301258962892384849699294203,\n",
    "520071830033615222504245399291,\n",
    "994869210101506594790719948613,\n",
    "245219053806416037970010902657,\n",
    "686041058007528223688600531911,\n",
    "627290270131015070770970266369,\n",
    "986406199575879090372513368911,\n",
    "161242727312477951737327198843,\n",
    "774858181281373313211111520339,\n",
    "684559254088515873739510084459,\n",
    "257694642268698126951808240063,\n",
    "571233875063041256502141730223,\n",
    "644801812715761815209851630957,\n",
    "959697197099941066839436226867,\n",
    "624429478423882721953553862137,\n",
    "174367152486141929170585530673,\n",
    "599558656796597046233579141381,\n",
    "433361790406333033396425865133,\n",
    "327914293338207349929854266927,\n",
    "469829830404491409659825996297,\n",
    "440912965020782384634858339911,\n",
    "117716796822761004609505655351,\n",
    "202743088259468212450682455949,\n",
    "825678387625860526264958140667,\n",
    "186563286821803413392902752181,\n",
    "344598372208490315697621082241,\n",
    "250491666241092516038026895957,\n",
    "455905910983924930564630078541,\n",
    "764508361786508023846708165651,\n",
    "368402894141896908753430052087,\n",
    "632529273538568546719862413771,\n",
    "238262282320450157628785827507,\n",
    "527663446629057224413918255997,\n",
    "733182256888608076021693398743,\n",
    "294525687336161906252161965089,\n",
    "168418874893897148434218110009,\n",
    "967500129217854143886182418299,\n",
    "918282852294568912813037878951,\n",
    "351474820193810768760797418683,\n",
    "472054784060326913010893152441,\n",
    "213047323530044816411212536661,\n",
    "840631896797768973136803074339,\n",
    "994618666924895047842532997701,\n",
    "696690223952403242478248080393,\n",
    "302823001073534810462474580767,\n",
    "415854418638180287264172792169]\n",
    "\n",
    "# slice the list to N portions\n",
    "sliced_list_bn = [list_bn[i::N] for i in range(N)]\n",
    "\n",
    "print(len(sliced_list_bn))"
   ]
  },
  {
   "cell_type": "code",
   "execution_count": 38,
   "metadata": {},
   "outputs": [
    {
     "name": "stdout",
     "output_type": "stream",
     "text": [
      "2147483647\n",
      "8\n"
     ]
    }
   ],
   "source": [
    "list_basis = []\n",
    "for i in range(N):\n",
    "    for j in range(N):\n",
    "        list_basis.append(sliced_list_bn[i][j] * lattice_basis[i][j])\n",
    "\n",
    "\n",
    "modulo = 2147483647 # Mersenne prime 2^31 - 1\n",
    "print(modulo)\n",
    "\n",
    "\n",
    "for i in range(len(list_basis)):\n",
    "    list_basis[i] = list_basis[i] % modulo\n",
    "\n",
    "sliced_list_basis = [list_basis[i::N] for i in range(N)]\n",
    "print(len(sliced_list_basis))\n"
   ]
  },
  {
   "cell_type": "code",
   "execution_count": 39,
   "metadata": {},
   "outputs": [],
   "source": [
    "def matrix_eye(N):\n",
    "    result = [[int(0) for _ in range(N)] for _ in range(N)]\n",
    "    for i in range(N):\n",
    "        result[i][i] = int(1)\n",
    "    return result"
   ]
  },
  {
   "cell_type": "code",
   "execution_count": 40,
   "metadata": {},
   "outputs": [],
   "source": [
    "def matrix_if_identical(matrix_a, matrix_b):\n",
    "    for i in range(N):\n",
    "        for j in range(N):\n",
    "            if matrix_a[i][j] != matrix_b[i][j]:\n",
    "                return False\n",
    "    return True\n"
   ]
  },
  {
   "cell_type": "code",
   "execution_count": 41,
   "metadata": {},
   "outputs": [
    {
     "name": "stdout",
     "output_type": "stream",
     "text": [
      "8\n",
      "[[], [], [], [], [], [], [], []]\n",
      "[[], [], [], [], [], [], [], []]\n"
     ]
    }
   ],
   "source": [
    "secret = [[[np.random.randint(-10, 10) for _ in range(N)] for _ in range(N)] for _ in range(N)]\n",
    "shared_secret = [[] for _ in range(N)]\n",
    "public = [[] for _ in range(N)]\n",
    "public_cache = [[] for _ in range(N)]\n",
    "public_rep = [[] for _ in range(N)]\n",
    "public_cache_rep = [[] for _ in range(N)]\n",
    "\n",
    "print(len(secret))\n",
    "print(public_rep)\n",
    "print(public_cache_rep)"
   ]
  },
  {
   "cell_type": "code",
   "execution_count": 42,
   "metadata": {},
   "outputs": [],
   "source": [
    "def matrix_mul(matrix_a, matrix_b, modulo):\n",
    "    result = [[int(0) for _ in range(N)] for _ in range(N)]\n",
    "    for i in range(N):\n",
    "        for j in range(N):\n",
    "            for k in range(N):\n",
    "                result[i][j] += matrix_a[i][k] * matrix_b[k][j]\n",
    "                result[i][j] %= modulo\n",
    "    return result"
   ]
  },
  {
   "cell_type": "code",
   "execution_count": 43,
   "metadata": {},
   "outputs": [],
   "source": [
    "def matrix_add(matrix_a, matrix_b, modulo):\n",
    "    result = [[int(0) for _ in range(N)] for _ in range(N)]\n",
    "    for i in range(N):\n",
    "        for j in range(N):\n",
    "            result[i][j] = matrix_a[i][j] + matrix_b[i][j]\n",
    "            result[i][j] %= modulo\n",
    "    return result"
   ]
  },
  {
   "cell_type": "code",
   "execution_count": 44,
   "metadata": {},
   "outputs": [],
   "source": [
    "def matrix_mul_and_add(matrix_a, matrix_b, matrix_c, modulo):\n",
    "    result = [[int(0) for _ in range(N)] for _ in range(N)]\n",
    "    for i in range(N):\n",
    "        for j in range(N):\n",
    "            for k in range(N):\n",
    "                result[i][j] += matrix_a[i][k] * matrix_b[k][j]\n",
    "                result[i][j] %= modulo\n",
    "            result[i][j] += matrix_c[i][j]\n",
    "            result[i][j] %= modulo\n",
    "    return result"
   ]
  },
  {
   "cell_type": "code",
   "execution_count": 45,
   "metadata": {},
   "outputs": [],
   "source": [
    "def matrix_div(matrix, divisor=100):\n",
    "    result = [[int(0) for _ in range(N)] for _ in range(N)]\n",
    "    for i in range(N):\n",
    "        for j in range(N):\n",
    "            result[i][j] = matrix[i][j] // divisor\n",
    "    return result"
   ]
  },
  {
   "cell_type": "code",
   "execution_count": 46,
   "metadata": {},
   "outputs": [],
   "source": [
    "def print_matrix(matrix):\n",
    "    for i in range(N):\n",
    "        for j in range(N):\n",
    "            print(f\"{int(matrix[i][j]):15}\", end=' ')\n",
    "        print()\n",
    "    print()"
   ]
  },
  {
   "cell_type": "code",
   "execution_count": 47,
   "metadata": {},
   "outputs": [
    {
     "name": "stdout",
     "output_type": "stream",
     "text": [
      "True\n",
      "            183              17             127              66              91             204              57             177 \n",
      "            208              38              58             111              66             157              27              97 \n",
      "            151              63             127              75              88             158             112             109 \n",
      "             71             177             155             154             202              85              14             177 \n",
      "             39             181              26              65             150             153              98             209 \n",
      "            174              68              24              74             108             176              11              61 \n",
      "            155              10               9              76              11             103              95              34 \n",
      "             88             208             115             114             188             121             179              91 \n",
      "\n",
      "            183              17             127              66              91             204              57             177 \n",
      "            208              38              58             111              66             157              27              97 \n",
      "            151              63             127              75              88             158             112             109 \n",
      "             71             177             155             154             202              85              14             177 \n",
      "             39             181              26              65             150             153              98             209 \n",
      "            174              68              24              74             108             176              11              61 \n",
      "            155              10               9              76              11             103              95              34 \n",
      "             88             208             115             114             188             121             179              91 \n"
     ]
    },
    {
     "name": "stderr",
     "output_type": "stream",
     "text": [
      "C:\\Users\\Admin\\AppData\\Local\\Temp\\ipykernel_15948\\3855214896.py:6: RuntimeWarning: overflow encountered in scalar multiply\n",
      "  result[i][j] += matrix_a[i][k] * matrix_b[k][j]\n",
      "C:\\Users\\Admin\\AppData\\Local\\Temp\\ipykernel_15948\\3855214896.py:6: RuntimeWarning: overflow encountered in scalar add\n",
      "  result[i][j] += matrix_a[i][k] * matrix_b[k][j]\n"
     ]
    }
   ],
   "source": [
    "a = matrix_mul_and_add(secret[0], sliced_list_basis, np.random.randint(-1, 1, (N, N)), modulo)\n",
    "a = matrix_mul(a, secret[1], modulo)\n",
    "a = matrix_div(a, 10000000)\n",
    "\n",
    "e = matrix_mul_and_add(sliced_list_basis, secret[1], np.random.randint(-1, 1, (N, N)), modulo)\n",
    "e = matrix_mul(secret[0], e, modulo)\n",
    "e = matrix_div(e, 10000000)\n",
    "\n",
    "print(matrix_if_identical(a, e))\n",
    "\n",
    "for i in range(N):\n",
    "    for j in range(N):\n",
    "        print(f\"{int(a[i][j]):15}\", end=\" \")\n",
    "    print()\n",
    "\n",
    "print()\n",
    "\n",
    "for i in range(N):\n",
    "    for j in range(N):\n",
    "        print(f\"{int(e[i][j]):15}\", end=\" \")\n",
    "    print()"
   ]
  },
  {
   "cell_type": "code",
   "execution_count": 48,
   "metadata": {},
   "outputs": [],
   "source": [
    "def secret_renew(secret_matrix, public_matrix, id: int, left_or_right: int, modulo):\n",
    "    if left_or_right == 0:\n",
    "        a = matrix_mul(secret_matrix, public_matrix, modulo)\n",
    "        a = matrix_div(a, 10000000)\n",
    "        return a\n",
    "    else:\n",
    "        a = matrix_mul(public_matrix, secret_matrix, modulo)\n",
    "        a = matrix_div(a, 10000000)\n",
    "        return a\n"
   ]
  },
  {
   "cell_type": "code",
   "execution_count": 49,
   "metadata": {},
   "outputs": [],
   "source": [
    "def public_renew(secret_matrix, id: int, left_or_right: int, modulo):\n",
    "    if left_or_right == 0:\n",
    "        a = matrix_mul_and_add(secret_matrix, sliced_list_basis, np.random.randint(-1, 1, (N, N)), modulo)\n",
    "        return a\n",
    "    else:\n",
    "        a = matrix_mul_and_add(sliced_list_basis, secret_matrix, np.random.randint(-1, 1, (N, N)), modulo)\n",
    "        return a\n"
   ]
  },
  {
   "cell_type": "code",
   "execution_count": 50,
   "metadata": {},
   "outputs": [
    {
     "name": "stdout",
     "output_type": "stream",
     "text": [
      "              6               2              -7               0             -10             -10               1              -6 \n",
      "              0               8              -4             -10               3               0               1               0 \n",
      "             -6              -9              -5               7              -9              -8              -4              -5 \n",
      "             -1              -9               9               4              -5               5              -7               1 \n",
      "              6               6              -5              -5               9               1               9              -3 \n",
      "              2              -4               6               0               8              -9               6              -5 \n",
      "             -5              -1             -10              -9               6              -4              -5              -9 \n",
      "              3              -8              -7               4               7               9              -2              -8 \n",
      "\n"
     ]
    }
   ],
   "source": [
    "print_matrix(secret[0])\n"
   ]
  },
  {
   "cell_type": "code",
   "execution_count": 51,
   "metadata": {},
   "outputs": [],
   "source": [
    "def multi_DH(n, round=0, verbose=False):\n",
    "    '''\n",
    "    This function computes the multi-party Diffie-Hellman key exchange protocol.\n",
    "    '''\n",
    "    if verbose:\n",
    "        print(f\"Round {round}:\")\n",
    "    match round:\n",
    "        case 0:\n",
    "            public[0] = public_renew(secret[0], 0, 0, modulo)\n",
    "            public[1] = public_renew(secret[1], 1, 1, modulo)\n",
    "            public[2] = public_renew(secret[2], 2, 0, modulo)\n",
    "            public[3] = public_renew(secret[3], 3, 1, modulo)\n",
    "            public[4] = public_renew(secret[4], 4, 0, modulo)\n",
    "            public[5] = public_renew(secret[5], 5, 1, modulo)\n",
    "            public[6] = public_renew(secret[6], 6, 0, modulo)\n",
    "            public[7] = public_renew(secret[7], 7, 1, modulo)   \n",
    "            public_rep[0] = [0]\n",
    "            public_rep[1] = [1]\n",
    "            public_rep[2] = [2]\n",
    "            public_rep[3] = [3]\n",
    "            public_rep[4] = [4]\n",
    "            public_rep[5] = [5]\n",
    "            public_rep[6] = [6]\n",
    "            public_rep[7] = [7]\n",
    "        case 1:\n",
    "            secret[0] = secret_renew(secret[0], public[1], 0, 0, modulo)\n",
    "            secret[1] = secret_renew(secret[1], public[0], 1, 1, modulo)\n",
    "            secret[2] = secret_renew(secret[2], public[3], 2, 0, modulo)\n",
    "            secret[3] = secret_renew(secret[3], public[2], 3, 1, modulo)\n",
    "            secret[4] = secret_renew(secret[4], public[5], 4, 0, modulo)\n",
    "            secret[5] = secret_renew(secret[5], public[4], 5, 1, modulo)\n",
    "            secret[6] = secret_renew(secret[6], public[7], 6, 0, modulo)\n",
    "            secret[7] = secret_renew(secret[7], public[6], 7, 1, modulo)\n",
    "            public[0] = public_renew(secret[0], 0, 0, modulo)\n",
    "            public[1] = public_renew(secret[1], 1, 0, modulo)\n",
    "            public[2] = public_renew(secret[2], 2, 1, modulo)\n",
    "            public[3] = public_renew(secret[3], 3, 1, modulo)\n",
    "            public[4] = public_renew(secret[4], 4, 0, modulo)\n",
    "            public[5] = public_renew(secret[5], 5, 0, modulo)\n",
    "            public[6] = public_renew(secret[6], 6, 1, modulo)\n",
    "            public[7] = public_renew(secret[7], 7, 1, modulo)\n",
    "            public_rep[0] = [0, 1]\n",
    "            public_rep[1] = [0, 1]\n",
    "            public_rep[2] = [2, 3]\n",
    "            public_rep[3] = [2, 3]\n",
    "            public_rep[4] = [4, 5]\n",
    "            public_rep[5] = [4, 5]\n",
    "            public_rep[6] = [6, 7]\n",
    "            public_rep[7] = [6, 7]\n",
    "        case 2:\n",
    "            secret[0] = secret_renew(secret[0], public[3], 0, 0, modulo)\n",
    "            secret[1] = secret_renew(secret[1], public[2], 1, 0, modulo)\n",
    "            secret[2] = secret_renew(secret[2], public[1], 2, 1, modulo)\n",
    "            secret[3] = secret_renew(secret[3], public[0], 3, 1, modulo)\n",
    "            secret[4] = secret_renew(secret[4], public[7], 4, 0, modulo)\n",
    "            secret[5] = secret_renew(secret[5], public[6], 5, 0, modulo)\n",
    "            secret[6] = secret_renew(secret[6], public[5], 6, 1, modulo)\n",
    "            secret[7] = secret_renew(secret[7], public[4], 7, 1, modulo)\n",
    "            public[0] = public_renew(secret[0], 0, 0, modulo)\n",
    "            public[1] = public_renew(secret[1], 1, 0, modulo)\n",
    "            public[2] = public_renew(secret[2], 2, 0, modulo)\n",
    "            public[3] = public_renew(secret[3], 3, 0, modulo)\n",
    "            public[4] = public_renew(secret[4], 4, 1, modulo)\n",
    "            public[5] = public_renew(secret[5], 5, 1, modulo)\n",
    "            public[6] = public_renew(secret[6], 6, 1, modulo)\n",
    "            public[7] = public_renew(secret[7], 7, 1, modulo)\n",
    "            public_rep[0] = [0, 1, 2, 3]\n",
    "            public_rep[1] = [0, 1, 2, 3]\n",
    "            public_rep[2] = [0, 1, 2, 3]\n",
    "            public_rep[3] = [0, 1, 2, 3]\n",
    "            public_rep[4] = [4, 5, 6, 7]\n",
    "            public_rep[5] = [4, 5, 6, 7]\n",
    "            public_rep[6] = [4, 5, 6, 7]\n",
    "            public_rep[7] = [4, 5, 6, 7]\n",
    "        case 3:\n",
    "            secret[0] = secret_renew(secret[0], public[7], 0, 0, modulo)\n",
    "            secret[1] = secret_renew(secret[1], public[6], 1, 0, modulo)\n",
    "            secret[2] = secret_renew(secret[2], public[5], 2, 0, modulo)\n",
    "            secret[3] = secret_renew(secret[3], public[4], 3, 0, modulo)\n",
    "            secret[4] = secret_renew(secret[4], public[3], 4, 1, modulo)\n",
    "            secret[5] = secret_renew(secret[5], public[2], 5, 1, modulo)\n",
    "            secret[6] = secret_renew(secret[6], public[1], 6, 1, modulo)\n",
    "            secret[7] = secret_renew(secret[7], public[0], 7, 1, modulo)\n",
    "            public_rep[0] = [0, 1, 2, 3, 4, 5, 6, 7]\n",
    "            public_rep[1] = [0, 1, 2, 3, 4, 5, 6, 7]\n",
    "            public_rep[2] = [0, 1, 2, 3, 4, 5, 6, 7]\n",
    "            public_rep[3] = [0, 1, 2, 3, 4, 5, 6, 7]\n",
    "            \n",
    "        "
   ]
  },
  {
   "cell_type": "code",
   "execution_count": 52,
   "metadata": {},
   "outputs": [
    {
     "name": "stdout",
     "output_type": "stream",
     "text": [
      "Round 0:\n",
      "Secret 0:\n",
      "[6, 2, -7, 0, -10, -10, 1, -6]\n",
      "Secret 1:\n",
      "[8, 0, -2, 0, -7, -5, 7, -4]\n",
      "Secret 2:\n",
      "[-3, 4, -4, -3, 4, -5, -7, -4]\n",
      "Secret 3:\n",
      "[3, -7, 6, -1, -3, 0, 7, -1]\n",
      "Secret 4:\n",
      "[9, -10, 3, -9, -6, -7, -5, -4]\n",
      "Secret 5:\n",
      "[0, 1, -5, 1, -4, 2, 6, 9]\n",
      "Secret 6:\n",
      "[-6, -9, 3, 7, 6, 3, -5, 8]\n",
      "Secret 7:\n",
      "[5, 7, -5, -8, 2, -9, -9, -4]\n",
      "Round 1:\n",
      "Secret 0:\n",
      "[183, 17, 127, 66, 91, 204, 57, 177]\n",
      "Secret 1:\n",
      "[183, 17, 127, 66, 91, 204, 57, 177]\n",
      "Secret 2:\n",
      "[35, 109, 94, 94, 181, 91, 211, 32]\n",
      "Secret 3:\n",
      "[35, 109, 94, 94, 181, 91, 211, 32]\n",
      "Secret 4:\n",
      "[144, 175, 73, 152, 89, 50, 187, 60]\n",
      "Secret 5:\n",
      "[144, 175, 73, 152, 89, 50, 187, 60]\n",
      "Secret 6:\n",
      "[46, 96, 7, 60, 185, 165, 194, 43]\n",
      "Secret 7:\n",
      "[46, 96, 7, 60, 185, 165, 194, 43]\n",
      "Round 2:\n",
      "Secret 0:\n",
      "[179, 97, 206, 35, 191, 39, 208, 172]\n",
      "Secret 1:\n",
      "[179, 97, 206, 35, 191, 39, 208, 172]\n",
      "Secret 2:\n",
      "[179, 97, 206, 35, 191, 39, 208, 172]\n",
      "Secret 3:\n",
      "[179, 97, 206, 35, 191, 39, 208, 172]\n",
      "Secret 4:\n",
      "[68, 121, 93, 178, 11, 175, 137, 37]\n",
      "Secret 5:\n",
      "[68, 121, 93, 178, 11, 175, 137, 37]\n",
      "Secret 6:\n",
      "[68, 121, 93, 178, 11, 175, 137, 37]\n",
      "Secret 7:\n",
      "[68, 121, 93, 178, 11, 175, 137, 37]\n",
      "Round 3:\n",
      "Secret 0:\n",
      "[70, 74, 192, 49, 66, 169, 147, 166]\n",
      "Secret 1:\n",
      "[70, 74, 192, 49, 66, 169, 147, 166]\n",
      "Secret 2:\n",
      "[70, 74, 192, 49, 66, 169, 147, 166]\n",
      "Secret 3:\n",
      "[70, 74, 192, 49, 66, 169, 147, 166]\n",
      "Secret 4:\n",
      "[70, 74, 192, 49, 66, 169, 147, 166]\n",
      "Secret 5:\n",
      "[70, 74, 192, 49, 66, 169, 147, 166]\n",
      "Secret 6:\n",
      "[70, 74, 192, 49, 66, 169, 147, 166]\n",
      "Secret 7:\n",
      "[70, 74, 192, 49, 66, 169, 147, 166]\n",
      "True\n",
      "True\n",
      "True\n",
      "True\n",
      "True\n",
      "True\n",
      "True\n",
      "True\n"
     ]
    },
    {
     "name": "stderr",
     "output_type": "stream",
     "text": [
      "C:\\Users\\Admin\\AppData\\Local\\Temp\\ipykernel_15948\\3855214896.py:6: RuntimeWarning: overflow encountered in scalar multiply\n",
      "  result[i][j] += matrix_a[i][k] * matrix_b[k][j]\n",
      "C:\\Users\\Admin\\AppData\\Local\\Temp\\ipykernel_15948\\3855214896.py:6: RuntimeWarning: overflow encountered in scalar add\n",
      "  result[i][j] += matrix_a[i][k] * matrix_b[k][j]\n"
     ]
    }
   ],
   "source": [
    "# Run the multi-party Diffie-Hellman key exchange protocol\n",
    "for i in range(4):\n",
    "    multi_DH(N, round=i, verbose=True)\n",
    "    for j in range(N):\n",
    "        print(f\"Secret {j}:\")\n",
    "        print(secret[j][0])\n",
    "\n",
    "for i in range(N):\n",
    "    print(matrix_if_identical(secret[i], secret[0]))\n"
   ]
  }
 ],
 "metadata": {
  "kernelspec": {
   "display_name": "env",
   "language": "python",
   "name": "python3"
  },
  "language_info": {
   "codemirror_mode": {
    "name": "ipython",
    "version": 3
   },
   "file_extension": ".py",
   "mimetype": "text/x-python",
   "name": "python",
   "nbconvert_exporter": "python",
   "pygments_lexer": "ipython3",
   "version": "3.11.3"
  }
 },
 "nbformat": 4,
 "nbformat_minor": 2
}
